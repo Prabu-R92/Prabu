{
  "nbformat": 4,
  "nbformat_minor": 0,
  "metadata": {
    "colab": {
      "name": "LTFS_LGBM.ipynb",
      "provenance": [],
      "collapsed_sections": []
    },
    "kernelspec": {
      "name": "python3",
      "display_name": "Python 3"
    }
  },
  "cells": [
    {
      "cell_type": "code",
      "metadata": {
        "id": "XM_eW-HdecR9",
        "colab_type": "code",
        "colab": {}
      },
      "source": [
        "#Getting all libraries necessary for now!\n",
        "import pandas as pd\n",
        "import numpy as np\n",
        "from datetime import timedelta\n",
        "\n",
        "import matplotlib.pyplot as plt\n",
        "import seaborn as sns\n",
        "\n",
        "import datetime\n",
        "\n",
        "import warnings\n",
        "warnings.filterwarnings('ignore')\n",
        "\n",
        "pd.options.mode.chained_assignment = None\n",
        "pd.options.display.max_columns = 999"
      ],
      "execution_count": 0,
      "outputs": []
    },
    {
      "cell_type": "code",
      "metadata": {
        "id": "YwkhJb26fm7n",
        "colab_type": "code",
        "outputId": "cb511d9d-f58b-4632-d3e9-178c036339cd",
        "colab": {
          "base_uri": "https://localhost:8080/",
          "height": 34
        }
      },
      "source": [
        "from google.colab import drive\n",
        "drive.mount('/content/drive')"
      ],
      "execution_count": 2,
      "outputs": [
        {
          "output_type": "stream",
          "text": [
            "Drive already mounted at /content/drive; to attempt to forcibly remount, call drive.mount(\"/content/drive\", force_remount=True).\n"
          ],
          "name": "stdout"
        }
      ]
    },
    {
      "cell_type": "code",
      "metadata": {
        "id": "sTzT6Wqj3m6I",
        "colab_type": "code",
        "colab": {}
      },
      "source": [
        "# Read all these to pandas!\n",
        "train = pd.read_csv(\"/content/drive/My Drive/LTFS/train_fwYjLYX.csv\")\n",
        "test = pd.read_csv(\"/content/drive/My Drive/LTFS/test_1eLl9Yf.csv\")\n",
        "submission = pd.read_csv(\"/content/drive/My Drive/LTFS/sample_submission_IIzFVsf.csv\")\n",
        "\n",
        "def mean_absolute_percentage_error(y_true, y_pred): \n",
        "    y_true, y_pred = np.array(y_true), np.array(y_pred)\n",
        "    return np.mean(np.abs((y_true - y_pred) / y_true)) * 100"
      ],
      "execution_count": 0,
      "outputs": []
    },
    {
      "cell_type": "code",
      "metadata": {
        "id": "VkUzReR45h8i",
        "colab_type": "code",
        "outputId": "70928a6b-b3e1-4e57-cff5-939fa238ba96",
        "colab": {
          "base_uri": "https://localhost:8080/",
          "height": 34
        }
      },
      "source": [
        "print(train.shape, test.shape)"
      ],
      "execution_count": 4,
      "outputs": [
        {
          "output_type": "stream",
          "text": [
            "(80402, 6) (180, 3)\n"
          ],
          "name": "stdout"
        }
      ]
    },
    {
      "cell_type": "code",
      "metadata": {
        "id": "ngg3HSx255Qa",
        "colab_type": "code",
        "outputId": "7c2ba059-7c05-4548-d2d7-665804340865",
        "colab": {
          "base_uri": "https://localhost:8080/",
          "height": 204
        }
      },
      "source": [
        "train.info()"
      ],
      "execution_count": 5,
      "outputs": [
        {
          "output_type": "stream",
          "text": [
            "<class 'pandas.core.frame.DataFrame'>\n",
            "RangeIndex: 80402 entries, 0 to 80401\n",
            "Data columns (total 6 columns):\n",
            "application_date    80402 non-null object\n",
            "segment             80402 non-null int64\n",
            "branch_id           66898 non-null float64\n",
            "state               80402 non-null object\n",
            "zone                66898 non-null object\n",
            "case_count          80402 non-null float64\n",
            "dtypes: float64(2), int64(1), object(3)\n",
            "memory usage: 3.7+ MB\n"
          ],
          "name": "stdout"
        }
      ]
    },
    {
      "cell_type": "code",
      "metadata": {
        "id": "YDlahfyo59v5",
        "colab_type": "code",
        "colab": {}
      },
      "source": [
        "train['application_date'] = pd.to_datetime(train['application_date'])\n",
        "test['application_date'] = pd.to_datetime(test['application_date'])"
      ],
      "execution_count": 0,
      "outputs": []
    },
    {
      "cell_type": "code",
      "metadata": {
        "id": "B5RMGjK9y77P",
        "colab_type": "code",
        "outputId": "93766ac2-6ced-41a4-e62c-3f79dcb1a2d7",
        "colab": {
          "base_uri": "https://localhost:8080/",
          "height": 204
        }
      },
      "source": [
        "import holidays\n",
        "train = train.sort_values('application_date')\n",
        "train.head()"
      ],
      "execution_count": 7,
      "outputs": [
        {
          "output_type": "execute_result",
          "data": {
            "text/html": [
              "<div>\n",
              "<style scoped>\n",
              "    .dataframe tbody tr th:only-of-type {\n",
              "        vertical-align: middle;\n",
              "    }\n",
              "\n",
              "    .dataframe tbody tr th {\n",
              "        vertical-align: top;\n",
              "    }\n",
              "\n",
              "    .dataframe thead th {\n",
              "        text-align: right;\n",
              "    }\n",
              "</style>\n",
              "<table border=\"1\" class=\"dataframe\">\n",
              "  <thead>\n",
              "    <tr style=\"text-align: right;\">\n",
              "      <th></th>\n",
              "      <th>application_date</th>\n",
              "      <th>segment</th>\n",
              "      <th>branch_id</th>\n",
              "      <th>state</th>\n",
              "      <th>zone</th>\n",
              "      <th>case_count</th>\n",
              "    </tr>\n",
              "  </thead>\n",
              "  <tbody>\n",
              "    <tr>\n",
              "      <th>0</th>\n",
              "      <td>2017-04-01</td>\n",
              "      <td>1</td>\n",
              "      <td>1.0</td>\n",
              "      <td>WEST BENGAL</td>\n",
              "      <td>EAST</td>\n",
              "      <td>40.0</td>\n",
              "    </tr>\n",
              "    <tr>\n",
              "      <th>20150</th>\n",
              "      <td>2017-04-01</td>\n",
              "      <td>1</td>\n",
              "      <td>62.0</td>\n",
              "      <td>PUNJAB</td>\n",
              "      <td>NORTH</td>\n",
              "      <td>2.0</td>\n",
              "    </tr>\n",
              "    <tr>\n",
              "      <th>20956</th>\n",
              "      <td>2017-04-01</td>\n",
              "      <td>1</td>\n",
              "      <td>63.0</td>\n",
              "      <td>JHARKHAND</td>\n",
              "      <td>SOUTH</td>\n",
              "      <td>6.0</td>\n",
              "    </tr>\n",
              "    <tr>\n",
              "      <th>21762</th>\n",
              "      <td>2017-04-01</td>\n",
              "      <td>1</td>\n",
              "      <td>64.0</td>\n",
              "      <td>KARNATAKA</td>\n",
              "      <td>SOUTH</td>\n",
              "      <td>0.0</td>\n",
              "    </tr>\n",
              "    <tr>\n",
              "      <th>22568</th>\n",
              "      <td>2017-04-01</td>\n",
              "      <td>1</td>\n",
              "      <td>65.0</td>\n",
              "      <td>ASSAM</td>\n",
              "      <td>EAST</td>\n",
              "      <td>12.0</td>\n",
              "    </tr>\n",
              "  </tbody>\n",
              "</table>\n",
              "</div>"
            ],
            "text/plain": [
              "      application_date  segment  branch_id        state   zone  case_count\n",
              "0           2017-04-01        1        1.0  WEST BENGAL   EAST        40.0\n",
              "20150       2017-04-01        1       62.0       PUNJAB  NORTH         2.0\n",
              "20956       2017-04-01        1       63.0    JHARKHAND  SOUTH         6.0\n",
              "21762       2017-04-01        1       64.0    KARNATAKA  SOUTH         0.0\n",
              "22568       2017-04-01        1       65.0        ASSAM   EAST        12.0"
            ]
          },
          "metadata": {
            "tags": []
          },
          "execution_count": 7
        }
      ]
    },
    {
      "cell_type": "code",
      "metadata": {
        "id": "zoLpbECC6cTS",
        "colab_type": "code",
        "outputId": "7f802910-0bdc-4af0-8c16-26febbb4e8fd",
        "colab": {
          "base_uri": "https://localhost:8080/",
          "height": 419
        }
      },
      "source": [
        "train = train.reset_index(drop=True)\n",
        "train.head(100)"
      ],
      "execution_count": 8,
      "outputs": [
        {
          "output_type": "execute_result",
          "data": {
            "text/html": [
              "<div>\n",
              "<style scoped>\n",
              "    .dataframe tbody tr th:only-of-type {\n",
              "        vertical-align: middle;\n",
              "    }\n",
              "\n",
              "    .dataframe tbody tr th {\n",
              "        vertical-align: top;\n",
              "    }\n",
              "\n",
              "    .dataframe thead th {\n",
              "        text-align: right;\n",
              "    }\n",
              "</style>\n",
              "<table border=\"1\" class=\"dataframe\">\n",
              "  <thead>\n",
              "    <tr style=\"text-align: right;\">\n",
              "      <th></th>\n",
              "      <th>application_date</th>\n",
              "      <th>segment</th>\n",
              "      <th>branch_id</th>\n",
              "      <th>state</th>\n",
              "      <th>zone</th>\n",
              "      <th>case_count</th>\n",
              "    </tr>\n",
              "  </thead>\n",
              "  <tbody>\n",
              "    <tr>\n",
              "      <th>0</th>\n",
              "      <td>2017-04-01</td>\n",
              "      <td>1</td>\n",
              "      <td>1.0</td>\n",
              "      <td>WEST BENGAL</td>\n",
              "      <td>EAST</td>\n",
              "      <td>40.0</td>\n",
              "    </tr>\n",
              "    <tr>\n",
              "      <th>1</th>\n",
              "      <td>2017-04-01</td>\n",
              "      <td>1</td>\n",
              "      <td>62.0</td>\n",
              "      <td>PUNJAB</td>\n",
              "      <td>NORTH</td>\n",
              "      <td>2.0</td>\n",
              "    </tr>\n",
              "    <tr>\n",
              "      <th>2</th>\n",
              "      <td>2017-04-01</td>\n",
              "      <td>1</td>\n",
              "      <td>63.0</td>\n",
              "      <td>JHARKHAND</td>\n",
              "      <td>SOUTH</td>\n",
              "      <td>6.0</td>\n",
              "    </tr>\n",
              "    <tr>\n",
              "      <th>3</th>\n",
              "      <td>2017-04-01</td>\n",
              "      <td>1</td>\n",
              "      <td>64.0</td>\n",
              "      <td>KARNATAKA</td>\n",
              "      <td>SOUTH</td>\n",
              "      <td>0.0</td>\n",
              "    </tr>\n",
              "    <tr>\n",
              "      <th>4</th>\n",
              "      <td>2017-04-01</td>\n",
              "      <td>1</td>\n",
              "      <td>65.0</td>\n",
              "      <td>ASSAM</td>\n",
              "      <td>EAST</td>\n",
              "      <td>12.0</td>\n",
              "    </tr>\n",
              "    <tr>\n",
              "      <th>...</th>\n",
              "      <td>...</td>\n",
              "      <td>...</td>\n",
              "      <td>...</td>\n",
              "      <td>...</td>\n",
              "      <td>...</td>\n",
              "      <td>...</td>\n",
              "    </tr>\n",
              "    <tr>\n",
              "      <th>95</th>\n",
              "      <td>2017-04-01</td>\n",
              "      <td>1</td>\n",
              "      <td>250.0</td>\n",
              "      <td>GUJARAT</td>\n",
              "      <td>WEST</td>\n",
              "      <td>0.0</td>\n",
              "    </tr>\n",
              "    <tr>\n",
              "      <th>96</th>\n",
              "      <td>2017-04-01</td>\n",
              "      <td>2</td>\n",
              "      <td>NaN</td>\n",
              "      <td>KARNATAKA</td>\n",
              "      <td>NaN</td>\n",
              "      <td>165.0</td>\n",
              "    </tr>\n",
              "    <tr>\n",
              "      <th>97</th>\n",
              "      <td>2017-04-01</td>\n",
              "      <td>1</td>\n",
              "      <td>3.0</td>\n",
              "      <td>DELHI</td>\n",
              "      <td>NORTH</td>\n",
              "      <td>58.0</td>\n",
              "    </tr>\n",
              "    <tr>\n",
              "      <th>98</th>\n",
              "      <td>2017-04-01</td>\n",
              "      <td>2</td>\n",
              "      <td>NaN</td>\n",
              "      <td>HARYANA</td>\n",
              "      <td>NaN</td>\n",
              "      <td>0.0</td>\n",
              "    </tr>\n",
              "    <tr>\n",
              "      <th>99</th>\n",
              "      <td>2017-04-02</td>\n",
              "      <td>2</td>\n",
              "      <td>NaN</td>\n",
              "      <td>MADHYA PRADESH</td>\n",
              "      <td>NaN</td>\n",
              "      <td>0.0</td>\n",
              "    </tr>\n",
              "  </tbody>\n",
              "</table>\n",
              "<p>100 rows × 6 columns</p>\n",
              "</div>"
            ],
            "text/plain": [
              "   application_date  segment  branch_id           state   zone  case_count\n",
              "0        2017-04-01        1        1.0     WEST BENGAL   EAST        40.0\n",
              "1        2017-04-01        1       62.0          PUNJAB  NORTH         2.0\n",
              "2        2017-04-01        1       63.0       JHARKHAND  SOUTH         6.0\n",
              "3        2017-04-01        1       64.0       KARNATAKA  SOUTH         0.0\n",
              "4        2017-04-01        1       65.0           ASSAM   EAST        12.0\n",
              "..              ...      ...        ...             ...    ...         ...\n",
              "95       2017-04-01        1      250.0         GUJARAT   WEST         0.0\n",
              "96       2017-04-01        2        NaN       KARNATAKA    NaN       165.0\n",
              "97       2017-04-01        1        3.0           DELHI  NORTH        58.0\n",
              "98       2017-04-01        2        NaN         HARYANA    NaN         0.0\n",
              "99       2017-04-02        2        NaN  MADHYA PRADESH    NaN         0.0\n",
              "\n",
              "[100 rows x 6 columns]"
            ]
          },
          "metadata": {
            "tags": []
          },
          "execution_count": 8
        }
      ]
    },
    {
      "cell_type": "code",
      "metadata": {
        "id": "iAjgIDD47faz",
        "colab_type": "code",
        "outputId": "6f114f41-4acc-4576-9469-9ee47fda6fb9",
        "colab": {
          "base_uri": "https://localhost:8080/",
          "height": 221
        }
      },
      "source": [
        "#Splitting the dataframe into Segment 1 and 2\n",
        "train1 = train[train['segment']==1]\n",
        "train2 = train[train['segment']==2]\n",
        "train1 = train1.reset_index(drop=True)\n",
        "train2 = train2.reset_index(drop=True)\n",
        "print(train1.head())\n",
        "print(train2.head())"
      ],
      "execution_count": 9,
      "outputs": [
        {
          "output_type": "stream",
          "text": [
            "  application_date  segment  branch_id        state   zone  case_count\n",
            "0       2017-04-01        1        1.0  WEST BENGAL   EAST        40.0\n",
            "1       2017-04-01        1       62.0       PUNJAB  NORTH         2.0\n",
            "2       2017-04-01        1       63.0    JHARKHAND  SOUTH         6.0\n",
            "3       2017-04-01        1       64.0    KARNATAKA  SOUTH         0.0\n",
            "4       2017-04-01        1       65.0        ASSAM   EAST        12.0\n",
            "  application_date  segment  branch_id          state zone  case_count\n",
            "0       2017-04-01        2        NaN     TAMIL NADU  NaN       458.0\n",
            "1       2017-04-01        2        NaN         PUNJAB  NaN         0.0\n",
            "2       2017-04-01        2        NaN        TRIPURA  NaN         0.0\n",
            "3       2017-04-01        2        NaN    WEST BENGAL  NaN        43.0\n",
            "4       2017-04-01        2        NaN  UTTAR PRADESH  NaN        27.0\n"
          ],
          "name": "stdout"
        }
      ]
    },
    {
      "cell_type": "code",
      "metadata": {
        "id": "YZ2f2Eebeo6o",
        "colab_type": "code",
        "outputId": "a56bf851-3c2d-40c9-cdf1-8e3360d31d87",
        "colab": {
          "base_uri": "https://localhost:8080/",
          "height": 221
        }
      },
      "source": [
        "date_train1 = train1.drop(['branch_id','state','zone'], axis=1)\n",
        "date_train2 = train2.drop(['branch_id','state','zone'], axis=1)\n",
        "print(date_train1.head())\n",
        "print(date_train2.head())"
      ],
      "execution_count": 10,
      "outputs": [
        {
          "output_type": "stream",
          "text": [
            "  application_date  segment  case_count\n",
            "0       2017-04-01        1        40.0\n",
            "1       2017-04-01        1         2.0\n",
            "2       2017-04-01        1         6.0\n",
            "3       2017-04-01        1         0.0\n",
            "4       2017-04-01        1        12.0\n",
            "  application_date  segment  case_count\n",
            "0       2017-04-01        2       458.0\n",
            "1       2017-04-01        2         0.0\n",
            "2       2017-04-01        2         0.0\n",
            "3       2017-04-01        2        43.0\n",
            "4       2017-04-01        2        27.0\n"
          ],
          "name": "stdout"
        }
      ]
    },
    {
      "cell_type": "code",
      "metadata": {
        "id": "e3vioWyGjcDh",
        "colab_type": "code",
        "outputId": "5bba1763-85d0-4e6e-8004-91805810dfcd",
        "colab": {
          "base_uri": "https://localhost:8080/",
          "height": 204
        }
      },
      "source": [
        "date_train1 = date_train1.groupby('application_date',as_index= False).agg({'case_count':'sum'})\n",
        "date_train1['segment'] = 1\n",
        "date_train1 = date_train1[['application_date','segment','case_count']]\n",
        "date_train1.head()"
      ],
      "execution_count": 11,
      "outputs": [
        {
          "output_type": "execute_result",
          "data": {
            "text/html": [
              "<div>\n",
              "<style scoped>\n",
              "    .dataframe tbody tr th:only-of-type {\n",
              "        vertical-align: middle;\n",
              "    }\n",
              "\n",
              "    .dataframe tbody tr th {\n",
              "        vertical-align: top;\n",
              "    }\n",
              "\n",
              "    .dataframe thead th {\n",
              "        text-align: right;\n",
              "    }\n",
              "</style>\n",
              "<table border=\"1\" class=\"dataframe\">\n",
              "  <thead>\n",
              "    <tr style=\"text-align: right;\">\n",
              "      <th></th>\n",
              "      <th>application_date</th>\n",
              "      <th>segment</th>\n",
              "      <th>case_count</th>\n",
              "    </tr>\n",
              "  </thead>\n",
              "  <tbody>\n",
              "    <tr>\n",
              "      <th>0</th>\n",
              "      <td>2017-04-01</td>\n",
              "      <td>1</td>\n",
              "      <td>299.0</td>\n",
              "    </tr>\n",
              "    <tr>\n",
              "      <th>1</th>\n",
              "      <td>2017-04-03</td>\n",
              "      <td>1</td>\n",
              "      <td>42.0</td>\n",
              "    </tr>\n",
              "    <tr>\n",
              "      <th>2</th>\n",
              "      <td>2017-04-04</td>\n",
              "      <td>1</td>\n",
              "      <td>23.0</td>\n",
              "    </tr>\n",
              "    <tr>\n",
              "      <th>3</th>\n",
              "      <td>2017-04-05</td>\n",
              "      <td>1</td>\n",
              "      <td>1530.0</td>\n",
              "    </tr>\n",
              "    <tr>\n",
              "      <th>4</th>\n",
              "      <td>2017-04-07</td>\n",
              "      <td>1</td>\n",
              "      <td>1341.0</td>\n",
              "    </tr>\n",
              "  </tbody>\n",
              "</table>\n",
              "</div>"
            ],
            "text/plain": [
              "  application_date  segment  case_count\n",
              "0       2017-04-01        1       299.0\n",
              "1       2017-04-03        1        42.0\n",
              "2       2017-04-04        1        23.0\n",
              "3       2017-04-05        1      1530.0\n",
              "4       2017-04-07        1      1341.0"
            ]
          },
          "metadata": {
            "tags": []
          },
          "execution_count": 11
        }
      ]
    },
    {
      "cell_type": "code",
      "metadata": {
        "id": "L2LLbvgVoaVL",
        "colab_type": "code",
        "outputId": "16b6eaab-e241-4c42-f0e1-45698f56c391",
        "colab": {
          "base_uri": "https://localhost:8080/",
          "height": 204
        }
      },
      "source": [
        "date_train2 = date_train2.groupby('application_date',as_index= False).agg({'case_count':'sum'})\n",
        "date_train2['segment'] = 2\n",
        "date_train2 = date_train2[['application_date','segment','case_count']]\n",
        "date_train2.head()"
      ],
      "execution_count": 12,
      "outputs": [
        {
          "output_type": "execute_result",
          "data": {
            "text/html": [
              "<div>\n",
              "<style scoped>\n",
              "    .dataframe tbody tr th:only-of-type {\n",
              "        vertical-align: middle;\n",
              "    }\n",
              "\n",
              "    .dataframe tbody tr th {\n",
              "        vertical-align: top;\n",
              "    }\n",
              "\n",
              "    .dataframe thead th {\n",
              "        text-align: right;\n",
              "    }\n",
              "</style>\n",
              "<table border=\"1\" class=\"dataframe\">\n",
              "  <thead>\n",
              "    <tr style=\"text-align: right;\">\n",
              "      <th></th>\n",
              "      <th>application_date</th>\n",
              "      <th>segment</th>\n",
              "      <th>case_count</th>\n",
              "    </tr>\n",
              "  </thead>\n",
              "  <tbody>\n",
              "    <tr>\n",
              "      <th>0</th>\n",
              "      <td>2017-04-01</td>\n",
              "      <td>2</td>\n",
              "      <td>897.0</td>\n",
              "    </tr>\n",
              "    <tr>\n",
              "      <th>1</th>\n",
              "      <td>2017-04-02</td>\n",
              "      <td>2</td>\n",
              "      <td>605.0</td>\n",
              "    </tr>\n",
              "    <tr>\n",
              "      <th>2</th>\n",
              "      <td>2017-04-03</td>\n",
              "      <td>2</td>\n",
              "      <td>2016.0</td>\n",
              "    </tr>\n",
              "    <tr>\n",
              "      <th>3</th>\n",
              "      <td>2017-04-04</td>\n",
              "      <td>2</td>\n",
              "      <td>2245.0</td>\n",
              "    </tr>\n",
              "    <tr>\n",
              "      <th>4</th>\n",
              "      <td>2017-04-05</td>\n",
              "      <td>2</td>\n",
              "      <td>2415.0</td>\n",
              "    </tr>\n",
              "  </tbody>\n",
              "</table>\n",
              "</div>"
            ],
            "text/plain": [
              "  application_date  segment  case_count\n",
              "0       2017-04-01        2       897.0\n",
              "1       2017-04-02        2       605.0\n",
              "2       2017-04-03        2      2016.0\n",
              "3       2017-04-04        2      2245.0\n",
              "4       2017-04-05        2      2415.0"
            ]
          },
          "metadata": {
            "tags": []
          },
          "execution_count": 12
        }
      ]
    },
    {
      "cell_type": "code",
      "metadata": {
        "id": "nXX9XRYehPUp",
        "colab_type": "code",
        "outputId": "5fe3a68f-2473-41f2-c43e-423c5a31b224",
        "colab": {
          "base_uri": "https://localhost:8080/",
          "height": 297
        }
      },
      "source": [
        "date_train1.describe() # There are outliers, as expected!"
      ],
      "execution_count": 13,
      "outputs": [
        {
          "output_type": "execute_result",
          "data": {
            "text/html": [
              "<div>\n",
              "<style scoped>\n",
              "    .dataframe tbody tr th:only-of-type {\n",
              "        vertical-align: middle;\n",
              "    }\n",
              "\n",
              "    .dataframe tbody tr th {\n",
              "        vertical-align: top;\n",
              "    }\n",
              "\n",
              "    .dataframe thead th {\n",
              "        text-align: right;\n",
              "    }\n",
              "</style>\n",
              "<table border=\"1\" class=\"dataframe\">\n",
              "  <thead>\n",
              "    <tr style=\"text-align: right;\">\n",
              "      <th></th>\n",
              "      <th>segment</th>\n",
              "      <th>case_count</th>\n",
              "    </tr>\n",
              "  </thead>\n",
              "  <tbody>\n",
              "    <tr>\n",
              "      <th>count</th>\n",
              "      <td>806.0</td>\n",
              "      <td>806.000000</td>\n",
              "    </tr>\n",
              "    <tr>\n",
              "      <th>mean</th>\n",
              "      <td>1.0</td>\n",
              "      <td>2714.689826</td>\n",
              "    </tr>\n",
              "    <tr>\n",
              "      <th>std</th>\n",
              "      <td>0.0</td>\n",
              "      <td>2042.418090</td>\n",
              "    </tr>\n",
              "    <tr>\n",
              "      <th>min</th>\n",
              "      <td>1.0</td>\n",
              "      <td>1.000000</td>\n",
              "    </tr>\n",
              "    <tr>\n",
              "      <th>25%</th>\n",
              "      <td>1.0</td>\n",
              "      <td>1633.250000</td>\n",
              "    </tr>\n",
              "    <tr>\n",
              "      <th>50%</th>\n",
              "      <td>1.0</td>\n",
              "      <td>2602.000000</td>\n",
              "    </tr>\n",
              "    <tr>\n",
              "      <th>75%</th>\n",
              "      <td>1.0</td>\n",
              "      <td>3333.000000</td>\n",
              "    </tr>\n",
              "    <tr>\n",
              "      <th>max</th>\n",
              "      <td>1.0</td>\n",
              "      <td>21885.000000</td>\n",
              "    </tr>\n",
              "  </tbody>\n",
              "</table>\n",
              "</div>"
            ],
            "text/plain": [
              "       segment    case_count\n",
              "count    806.0    806.000000\n",
              "mean       1.0   2714.689826\n",
              "std        0.0   2042.418090\n",
              "min        1.0      1.000000\n",
              "25%        1.0   1633.250000\n",
              "50%        1.0   2602.000000\n",
              "75%        1.0   3333.000000\n",
              "max        1.0  21885.000000"
            ]
          },
          "metadata": {
            "tags": []
          },
          "execution_count": 13
        }
      ]
    },
    {
      "cell_type": "code",
      "metadata": {
        "id": "NbCsFx2qhdW4",
        "colab_type": "code",
        "outputId": "a69161e7-3156-44fc-b13e-6c0b781abff0",
        "colab": {
          "base_uri": "https://localhost:8080/",
          "height": 297
        }
      },
      "source": [
        "date_train2.describe()"
      ],
      "execution_count": 14,
      "outputs": [
        {
          "output_type": "execute_result",
          "data": {
            "text/html": [
              "<div>\n",
              "<style scoped>\n",
              "    .dataframe tbody tr th:only-of-type {\n",
              "        vertical-align: middle;\n",
              "    }\n",
              "\n",
              "    .dataframe tbody tr th {\n",
              "        vertical-align: top;\n",
              "    }\n",
              "\n",
              "    .dataframe thead th {\n",
              "        text-align: right;\n",
              "    }\n",
              "</style>\n",
              "<table border=\"1\" class=\"dataframe\">\n",
              "  <thead>\n",
              "    <tr style=\"text-align: right;\">\n",
              "      <th></th>\n",
              "      <th>segment</th>\n",
              "      <th>case_count</th>\n",
              "    </tr>\n",
              "  </thead>\n",
              "  <tbody>\n",
              "    <tr>\n",
              "      <th>count</th>\n",
              "      <td>844.0</td>\n",
              "      <td>844.000000</td>\n",
              "    </tr>\n",
              "    <tr>\n",
              "      <th>mean</th>\n",
              "      <td>2.0</td>\n",
              "      <td>15077.098341</td>\n",
              "    </tr>\n",
              "    <tr>\n",
              "      <th>std</th>\n",
              "      <td>0.0</td>\n",
              "      <td>10188.900682</td>\n",
              "    </tr>\n",
              "    <tr>\n",
              "      <th>min</th>\n",
              "      <td>2.0</td>\n",
              "      <td>206.000000</td>\n",
              "    </tr>\n",
              "    <tr>\n",
              "      <th>25%</th>\n",
              "      <td>2.0</td>\n",
              "      <td>5946.000000</td>\n",
              "    </tr>\n",
              "    <tr>\n",
              "      <th>50%</th>\n",
              "      <td>2.0</td>\n",
              "      <td>12679.000000</td>\n",
              "    </tr>\n",
              "    <tr>\n",
              "      <th>75%</th>\n",
              "      <td>2.0</td>\n",
              "      <td>24217.250000</td>\n",
              "    </tr>\n",
              "    <tr>\n",
              "      <th>max</th>\n",
              "      <td>2.0</td>\n",
              "      <td>43340.000000</td>\n",
              "    </tr>\n",
              "  </tbody>\n",
              "</table>\n",
              "</div>"
            ],
            "text/plain": [
              "       segment    case_count\n",
              "count    844.0    844.000000\n",
              "mean       2.0  15077.098341\n",
              "std        0.0  10188.900682\n",
              "min        2.0    206.000000\n",
              "25%        2.0   5946.000000\n",
              "50%        2.0  12679.000000\n",
              "75%        2.0  24217.250000\n",
              "max        2.0  43340.000000"
            ]
          },
          "metadata": {
            "tags": []
          },
          "execution_count": 14
        }
      ]
    },
    {
      "cell_type": "code",
      "metadata": {
        "id": "A6Ubg4O2iMdM",
        "colab_type": "code",
        "colab": {}
      },
      "source": [
        "test1 = test[test['segment']==1]\n",
        "test2 = test[test['segment']==2]"
      ],
      "execution_count": 0,
      "outputs": []
    },
    {
      "cell_type": "code",
      "metadata": {
        "id": "R4Ab4hvsi47_",
        "colab_type": "code",
        "outputId": "e64be9bd-ab84-4f55-cfe6-214b3054ae4e",
        "colab": {
          "base_uri": "https://localhost:8080/",
          "height": 221
        }
      },
      "source": [
        "test1.drop('id', axis=1, inplace = True)\n",
        "test2.drop('id', axis=1, inplace = True)\n",
        "print(test1.head())\n",
        "print(test2.head())"
      ],
      "execution_count": 16,
      "outputs": [
        {
          "output_type": "stream",
          "text": [
            "  application_date  segment\n",
            "0       2019-07-06        1\n",
            "1       2019-07-07        1\n",
            "2       2019-07-08        1\n",
            "3       2019-07-09        1\n",
            "4       2019-07-10        1\n",
            "   application_date  segment\n",
            "87       2019-07-24        2\n",
            "88       2019-07-25        2\n",
            "89       2019-07-26        2\n",
            "90       2019-07-27        2\n",
            "91       2019-07-28        2\n"
          ],
          "name": "stdout"
        }
      ]
    },
    {
      "cell_type": "code",
      "metadata": {
        "id": "wpVvNin3mhcg",
        "colab_type": "code",
        "outputId": "90542c31-0ce7-4b4b-b7d0-86e4c8923a4c",
        "colab": {
          "base_uri": "https://localhost:8080/",
          "height": 34
        }
      },
      "source": [
        "print(date_train1.shape, date_train2.shape, test1.shape, test2.shape)"
      ],
      "execution_count": 17,
      "outputs": [
        {
          "output_type": "stream",
          "text": [
            "(806, 3) (844, 3) (87, 2) (93, 2)\n"
          ],
          "name": "stdout"
        }
      ]
    },
    {
      "cell_type": "code",
      "metadata": {
        "id": "y-UZrSjDEmzD",
        "colab_type": "code",
        "outputId": "832b7525-a10b-4fa0-ab08-ba81f62b115a",
        "colab": {
          "base_uri": "https://localhost:8080/",
          "height": 255
        }
      },
      "source": [
        "df1 = date_train1.append(test1, ignore_index = True)\n",
        "df2 = date_train2.append(test2, ignore_index = True)\n",
        "print(df1.shape)\n",
        "print(df2.shape)\n",
        "print(df1.head())\n",
        "print(df2.head())"
      ],
      "execution_count": 18,
      "outputs": [
        {
          "output_type": "stream",
          "text": [
            "(893, 3)\n",
            "(937, 3)\n",
            "  application_date  case_count  segment\n",
            "0       2017-04-01       299.0        1\n",
            "1       2017-04-03        42.0        1\n",
            "2       2017-04-04        23.0        1\n",
            "3       2017-04-05      1530.0        1\n",
            "4       2017-04-07      1341.0        1\n",
            "  application_date  case_count  segment\n",
            "0       2017-04-01       897.0        2\n",
            "1       2017-04-02       605.0        2\n",
            "2       2017-04-03      2016.0        2\n",
            "3       2017-04-04      2245.0        2\n",
            "4       2017-04-05      2415.0        2\n"
          ],
          "name": "stdout"
        }
      ]
    },
    {
      "cell_type": "code",
      "metadata": {
        "id": "NNUlBsevqi5V",
        "colab_type": "code",
        "colab": {}
      },
      "source": [
        "from fastai.tabular import add_datepart\n",
        "\n",
        "add_datepart(df1, 'application_date', drop=False)\n",
        "\n",
        "df1.drop('application_Elapsed', axis=1, inplace=True)"
      ],
      "execution_count": 0,
      "outputs": []
    },
    {
      "cell_type": "code",
      "metadata": {
        "id": "R3RPyczYqj4m",
        "colab_type": "code",
        "outputId": "9f8d030a-a803-4a40-e0ad-0ac4aca36563",
        "colab": {
          "base_uri": "https://localhost:8080/",
          "height": 34
        }
      },
      "source": [
        "df1.shape"
      ],
      "execution_count": 20,
      "outputs": [
        {
          "output_type": "execute_result",
          "data": {
            "text/plain": [
              "(893, 15)"
            ]
          },
          "metadata": {
            "tags": []
          },
          "execution_count": 20
        }
      ]
    },
    {
      "cell_type": "code",
      "metadata": {
        "id": "NqPQaEmFqkmd",
        "colab_type": "code",
        "colab": {}
      },
      "source": [
        "from fastai.tabular import add_datepart\n",
        "\n",
        "add_datepart(df2, 'application_date', drop=False)\n",
        "\n",
        "df2.drop('application_Elapsed', axis=1, inplace=True)"
      ],
      "execution_count": 0,
      "outputs": []
    },
    {
      "cell_type": "code",
      "metadata": {
        "id": "-y1ylsLJqkyZ",
        "colab_type": "code",
        "outputId": "76db2a37-176f-4e5f-a3cd-bb4daa6025ce",
        "colab": {
          "base_uri": "https://localhost:8080/",
          "height": 54
        }
      },
      "source": [
        "import holidays\n",
        "ind_holidays = []\n",
        "\n",
        "for date in holidays.India(years =[2017,2018,2019]).items():\n",
        "  ind_holidays.append(str(date[0]))\n",
        "\n",
        "print(ind_holidays, end=',')\n",
        "#The below list does not make any sense! There is no festival holidays available!"
      ],
      "execution_count": 22,
      "outputs": [
        {
          "output_type": "stream",
          "text": [
            "['2017-01-14', '2017-01-26', '2017-08-15', '2017-10-02', '2017-05-01', '2017-12-25', '2018-01-14', '2018-01-26', '2018-08-15', '2018-10-02', '2018-05-01', '2018-12-25', '2019-01-14', '2019-01-26', '2019-08-15', '2019-10-02', '2019-05-01', '2019-12-25'],"
          ],
          "name": "stdout"
        }
      ]
    },
    {
      "cell_type": "code",
      "metadata": {
        "id": "hW7fkHUEevO8",
        "colab_type": "code",
        "outputId": "c992240d-d4c7-473f-9708-acf9df48b066",
        "colab": {
          "base_uri": "https://localhost:8080/",
          "height": 884
        }
      },
      "source": [
        "# Refering calendarlabs.com\n",
        "#['2017-01-01','2017-03-13','2017-03-28','2017-04-05','2017-04-14','2017-06-26','2017-08-07','2017-08-14','2017-08-25',\n",
        "#'2017-09-04','2017-09-30','2017-10-19','2018-01-01','2018-03-18','2018-03-25','2018-03-30','2018-04-14','2018-06-16','2018-08-25',\n",
        "#'2018-08-26','2018-10-19','2018-11-07','2019-01-01','2019-03-21','2019-04-06','2019-04-13','2019-04-19','2019-06-05','2019-08-24',\n",
        "#'2019-09-02','2019-09-11','2019-10-08','2019-10-27'])\n",
        "ind_holidays.append('2017-01-01')\n",
        "ind_holidays.append('2017-03-13')\n",
        "ind_holidays.append('2017-03-28')\n",
        "ind_holidays.append('2017-04-05')\n",
        "ind_holidays.append('2017-04-14')\n",
        "ind_holidays.append('2017-06-26')\n",
        "ind_holidays.append('2017-08-07')\n",
        "ind_holidays.append('2017-08-14')\n",
        "ind_holidays.append('2017-08-25')\n",
        "ind_holidays.append('2017-09-04')\n",
        "ind_holidays.append('2017-09-30')\n",
        "ind_holidays.append('2017-10-19')\n",
        "ind_holidays.append('2018-01-01')\n",
        "ind_holidays.append('2018-03-18')\n",
        "ind_holidays.append('2018-03-25')\n",
        "ind_holidays.append('2018-03-30')\n",
        "ind_holidays.append('2018-04-14')\n",
        "ind_holidays.append('2018-06-16')\n",
        "ind_holidays.append('2018-08-25')\n",
        "ind_holidays.append('2018-08-26')\n",
        "ind_holidays.append('2018-10-19')\n",
        "ind_holidays.append('2018-11-07')\n",
        "ind_holidays.append('2019-01-01')\n",
        "ind_holidays.append('2019-03-21')\n",
        "ind_holidays.append('2019-04-06')\n",
        "ind_holidays.append('2019-04-13')\n",
        "ind_holidays.append('2019-04-19')\n",
        "ind_holidays.append('2019-06-05')\n",
        "ind_holidays.append('2019-08-24')\n",
        "ind_holidays.append('2019-09-02')\n",
        "ind_holidays.append('2019-09-11')\n",
        "ind_holidays.append('2019-10-08')\n",
        "ind_holidays.append('2019-10-27')\n",
        "ind_holidays"
      ],
      "execution_count": 23,
      "outputs": [
        {
          "output_type": "execute_result",
          "data": {
            "text/plain": [
              "['2017-01-14',\n",
              " '2017-01-26',\n",
              " '2017-08-15',\n",
              " '2017-10-02',\n",
              " '2017-05-01',\n",
              " '2017-12-25',\n",
              " '2018-01-14',\n",
              " '2018-01-26',\n",
              " '2018-08-15',\n",
              " '2018-10-02',\n",
              " '2018-05-01',\n",
              " '2018-12-25',\n",
              " '2019-01-14',\n",
              " '2019-01-26',\n",
              " '2019-08-15',\n",
              " '2019-10-02',\n",
              " '2019-05-01',\n",
              " '2019-12-25',\n",
              " '2017-01-01',\n",
              " '2017-03-13',\n",
              " '2017-03-28',\n",
              " '2017-04-05',\n",
              " '2017-04-14',\n",
              " '2017-06-26',\n",
              " '2017-08-07',\n",
              " '2017-08-14',\n",
              " '2017-08-25',\n",
              " '2017-09-04',\n",
              " '2017-09-30',\n",
              " '2017-10-19',\n",
              " '2018-01-01',\n",
              " '2018-03-18',\n",
              " '2018-03-25',\n",
              " '2018-03-30',\n",
              " '2018-04-14',\n",
              " '2018-06-16',\n",
              " '2018-08-25',\n",
              " '2018-08-26',\n",
              " '2018-10-19',\n",
              " '2018-11-07',\n",
              " '2019-01-01',\n",
              " '2019-03-21',\n",
              " '2019-04-06',\n",
              " '2019-04-13',\n",
              " '2019-04-19',\n",
              " '2019-06-05',\n",
              " '2019-08-24',\n",
              " '2019-09-02',\n",
              " '2019-09-11',\n",
              " '2019-10-08',\n",
              " '2019-10-27']"
            ]
          },
          "metadata": {
            "tags": []
          },
          "execution_count": 23
        }
      ]
    },
    {
      "cell_type": "code",
      "metadata": {
        "id": "AsOx6jEBqk4v",
        "colab_type": "code",
        "outputId": "e25f74a3-d3c1-4331-bc95-ffe1f4f6d77e",
        "colab": {
          "base_uri": "https://localhost:8080/",
          "height": 153
        }
      },
      "source": [
        "start_date = datetime.datetime(year=2017, month=1, day=1)\n",
        "end_date = datetime.datetime(year=2019, month=12, day=31)\n",
        "\n",
        "pd.date_range(start_date, end_date)"
      ],
      "execution_count": 24,
      "outputs": [
        {
          "output_type": "execute_result",
          "data": {
            "text/plain": [
              "DatetimeIndex(['2017-01-01', '2017-01-02', '2017-01-03', '2017-01-04',\n",
              "               '2017-01-05', '2017-01-06', '2017-01-07', '2017-01-08',\n",
              "               '2017-01-09', '2017-01-10',\n",
              "               ...\n",
              "               '2019-12-22', '2019-12-23', '2019-12-24', '2019-12-25',\n",
              "               '2019-12-26', '2019-12-27', '2019-12-28', '2019-12-29',\n",
              "               '2019-12-30', '2019-12-31'],\n",
              "              dtype='datetime64[ns]', length=1095, freq='D')"
            ]
          },
          "metadata": {
            "tags": []
          },
          "execution_count": 24
        }
      ]
    },
    {
      "cell_type": "code",
      "metadata": {
        "id": "FmoMDNoSqk-G",
        "colab_type": "code",
        "outputId": "641e442e-8013-4858-a0a9-6a8804820aa0",
        "colab": {
          "base_uri": "https://localhost:8080/",
          "height": 204
        }
      },
      "source": [
        "date_range = pd.DataFrame()\n",
        "date_range['application_date'] = pd.date_range(start_date, end_date)\n",
        "date_range.head() "
      ],
      "execution_count": 25,
      "outputs": [
        {
          "output_type": "execute_result",
          "data": {
            "text/html": [
              "<div>\n",
              "<style scoped>\n",
              "    .dataframe tbody tr th:only-of-type {\n",
              "        vertical-align: middle;\n",
              "    }\n",
              "\n",
              "    .dataframe tbody tr th {\n",
              "        vertical-align: top;\n",
              "    }\n",
              "\n",
              "    .dataframe thead th {\n",
              "        text-align: right;\n",
              "    }\n",
              "</style>\n",
              "<table border=\"1\" class=\"dataframe\">\n",
              "  <thead>\n",
              "    <tr style=\"text-align: right;\">\n",
              "      <th></th>\n",
              "      <th>application_date</th>\n",
              "    </tr>\n",
              "  </thead>\n",
              "  <tbody>\n",
              "    <tr>\n",
              "      <th>0</th>\n",
              "      <td>2017-01-01</td>\n",
              "    </tr>\n",
              "    <tr>\n",
              "      <th>1</th>\n",
              "      <td>2017-01-02</td>\n",
              "    </tr>\n",
              "    <tr>\n",
              "      <th>2</th>\n",
              "      <td>2017-01-03</td>\n",
              "    </tr>\n",
              "    <tr>\n",
              "      <th>3</th>\n",
              "      <td>2017-01-04</td>\n",
              "    </tr>\n",
              "    <tr>\n",
              "      <th>4</th>\n",
              "      <td>2017-01-05</td>\n",
              "    </tr>\n",
              "  </tbody>\n",
              "</table>\n",
              "</div>"
            ],
            "text/plain": [
              "  application_date\n",
              "0       2017-01-01\n",
              "1       2017-01-02\n",
              "2       2017-01-03\n",
              "3       2017-01-04\n",
              "4       2017-01-05"
            ]
          },
          "metadata": {
            "tags": []
          },
          "execution_count": 25
        }
      ]
    },
    {
      "cell_type": "code",
      "metadata": {
        "id": "wX3pLr-CqlDU",
        "colab_type": "code",
        "colab": {}
      },
      "source": [
        "date_range['is_Holiday'] = [1 if str(val).split()[0] in ind_holidays else 0 for val in date_range['application_date']]"
      ],
      "execution_count": 0,
      "outputs": []
    },
    {
      "cell_type": "code",
      "metadata": {
        "id": "1D_NkcyVqlH1",
        "colab_type": "code",
        "outputId": "cb8255ad-53b9-436b-ee51-c43fb68201ab",
        "colab": {
          "base_uri": "https://localhost:8080/",
          "height": 419
        }
      },
      "source": [
        "date_range.head(100)"
      ],
      "execution_count": 27,
      "outputs": [
        {
          "output_type": "execute_result",
          "data": {
            "text/html": [
              "<div>\n",
              "<style scoped>\n",
              "    .dataframe tbody tr th:only-of-type {\n",
              "        vertical-align: middle;\n",
              "    }\n",
              "\n",
              "    .dataframe tbody tr th {\n",
              "        vertical-align: top;\n",
              "    }\n",
              "\n",
              "    .dataframe thead th {\n",
              "        text-align: right;\n",
              "    }\n",
              "</style>\n",
              "<table border=\"1\" class=\"dataframe\">\n",
              "  <thead>\n",
              "    <tr style=\"text-align: right;\">\n",
              "      <th></th>\n",
              "      <th>application_date</th>\n",
              "      <th>is_Holiday</th>\n",
              "    </tr>\n",
              "  </thead>\n",
              "  <tbody>\n",
              "    <tr>\n",
              "      <th>0</th>\n",
              "      <td>2017-01-01</td>\n",
              "      <td>1</td>\n",
              "    </tr>\n",
              "    <tr>\n",
              "      <th>1</th>\n",
              "      <td>2017-01-02</td>\n",
              "      <td>0</td>\n",
              "    </tr>\n",
              "    <tr>\n",
              "      <th>2</th>\n",
              "      <td>2017-01-03</td>\n",
              "      <td>0</td>\n",
              "    </tr>\n",
              "    <tr>\n",
              "      <th>3</th>\n",
              "      <td>2017-01-04</td>\n",
              "      <td>0</td>\n",
              "    </tr>\n",
              "    <tr>\n",
              "      <th>4</th>\n",
              "      <td>2017-01-05</td>\n",
              "      <td>0</td>\n",
              "    </tr>\n",
              "    <tr>\n",
              "      <th>...</th>\n",
              "      <td>...</td>\n",
              "      <td>...</td>\n",
              "    </tr>\n",
              "    <tr>\n",
              "      <th>95</th>\n",
              "      <td>2017-04-06</td>\n",
              "      <td>0</td>\n",
              "    </tr>\n",
              "    <tr>\n",
              "      <th>96</th>\n",
              "      <td>2017-04-07</td>\n",
              "      <td>0</td>\n",
              "    </tr>\n",
              "    <tr>\n",
              "      <th>97</th>\n",
              "      <td>2017-04-08</td>\n",
              "      <td>0</td>\n",
              "    </tr>\n",
              "    <tr>\n",
              "      <th>98</th>\n",
              "      <td>2017-04-09</td>\n",
              "      <td>0</td>\n",
              "    </tr>\n",
              "    <tr>\n",
              "      <th>99</th>\n",
              "      <td>2017-04-10</td>\n",
              "      <td>0</td>\n",
              "    </tr>\n",
              "  </tbody>\n",
              "</table>\n",
              "<p>100 rows × 2 columns</p>\n",
              "</div>"
            ],
            "text/plain": [
              "   application_date  is_Holiday\n",
              "0        2017-01-01           1\n",
              "1        2017-01-02           0\n",
              "2        2017-01-03           0\n",
              "3        2017-01-04           0\n",
              "4        2017-01-05           0\n",
              "..              ...         ...\n",
              "95       2017-04-06           0\n",
              "96       2017-04-07           0\n",
              "97       2017-04-08           0\n",
              "98       2017-04-09           0\n",
              "99       2017-04-10           0\n",
              "\n",
              "[100 rows x 2 columns]"
            ]
          },
          "metadata": {
            "tags": []
          },
          "execution_count": 27
        }
      ]
    },
    {
      "cell_type": "code",
      "metadata": {
        "id": "AX6Xk4DfqlBv",
        "colab_type": "code",
        "outputId": "da9e8103-460b-481e-9d9d-70904c169ede",
        "colab": {
          "base_uri": "https://localhost:8080/",
          "height": 224
        }
      },
      "source": [
        "df1 = df1.merge(date_range, how = 'left', on = ['application_date'])\n",
        "df2 = df2.merge(date_range, how = 'left', on = ['application_date'])\n",
        "df1.head()"
      ],
      "execution_count": 28,
      "outputs": [
        {
          "output_type": "execute_result",
          "data": {
            "text/html": [
              "<div>\n",
              "<style scoped>\n",
              "    .dataframe tbody tr th:only-of-type {\n",
              "        vertical-align: middle;\n",
              "    }\n",
              "\n",
              "    .dataframe tbody tr th {\n",
              "        vertical-align: top;\n",
              "    }\n",
              "\n",
              "    .dataframe thead th {\n",
              "        text-align: right;\n",
              "    }\n",
              "</style>\n",
              "<table border=\"1\" class=\"dataframe\">\n",
              "  <thead>\n",
              "    <tr style=\"text-align: right;\">\n",
              "      <th></th>\n",
              "      <th>application_date</th>\n",
              "      <th>case_count</th>\n",
              "      <th>segment</th>\n",
              "      <th>application_Year</th>\n",
              "      <th>application_Month</th>\n",
              "      <th>application_Week</th>\n",
              "      <th>application_Day</th>\n",
              "      <th>application_Dayofweek</th>\n",
              "      <th>application_Dayofyear</th>\n",
              "      <th>application_Is_month_end</th>\n",
              "      <th>application_Is_month_start</th>\n",
              "      <th>application_Is_quarter_end</th>\n",
              "      <th>application_Is_quarter_start</th>\n",
              "      <th>application_Is_year_end</th>\n",
              "      <th>application_Is_year_start</th>\n",
              "      <th>is_Holiday</th>\n",
              "    </tr>\n",
              "  </thead>\n",
              "  <tbody>\n",
              "    <tr>\n",
              "      <th>0</th>\n",
              "      <td>2017-04-01</td>\n",
              "      <td>299.0</td>\n",
              "      <td>1</td>\n",
              "      <td>2017</td>\n",
              "      <td>4</td>\n",
              "      <td>13</td>\n",
              "      <td>1</td>\n",
              "      <td>5</td>\n",
              "      <td>91</td>\n",
              "      <td>False</td>\n",
              "      <td>True</td>\n",
              "      <td>False</td>\n",
              "      <td>True</td>\n",
              "      <td>False</td>\n",
              "      <td>False</td>\n",
              "      <td>0</td>\n",
              "    </tr>\n",
              "    <tr>\n",
              "      <th>1</th>\n",
              "      <td>2017-04-03</td>\n",
              "      <td>42.0</td>\n",
              "      <td>1</td>\n",
              "      <td>2017</td>\n",
              "      <td>4</td>\n",
              "      <td>14</td>\n",
              "      <td>3</td>\n",
              "      <td>0</td>\n",
              "      <td>93</td>\n",
              "      <td>False</td>\n",
              "      <td>False</td>\n",
              "      <td>False</td>\n",
              "      <td>False</td>\n",
              "      <td>False</td>\n",
              "      <td>False</td>\n",
              "      <td>0</td>\n",
              "    </tr>\n",
              "    <tr>\n",
              "      <th>2</th>\n",
              "      <td>2017-04-04</td>\n",
              "      <td>23.0</td>\n",
              "      <td>1</td>\n",
              "      <td>2017</td>\n",
              "      <td>4</td>\n",
              "      <td>14</td>\n",
              "      <td>4</td>\n",
              "      <td>1</td>\n",
              "      <td>94</td>\n",
              "      <td>False</td>\n",
              "      <td>False</td>\n",
              "      <td>False</td>\n",
              "      <td>False</td>\n",
              "      <td>False</td>\n",
              "      <td>False</td>\n",
              "      <td>0</td>\n",
              "    </tr>\n",
              "    <tr>\n",
              "      <th>3</th>\n",
              "      <td>2017-04-05</td>\n",
              "      <td>1530.0</td>\n",
              "      <td>1</td>\n",
              "      <td>2017</td>\n",
              "      <td>4</td>\n",
              "      <td>14</td>\n",
              "      <td>5</td>\n",
              "      <td>2</td>\n",
              "      <td>95</td>\n",
              "      <td>False</td>\n",
              "      <td>False</td>\n",
              "      <td>False</td>\n",
              "      <td>False</td>\n",
              "      <td>False</td>\n",
              "      <td>False</td>\n",
              "      <td>1</td>\n",
              "    </tr>\n",
              "    <tr>\n",
              "      <th>4</th>\n",
              "      <td>2017-04-07</td>\n",
              "      <td>1341.0</td>\n",
              "      <td>1</td>\n",
              "      <td>2017</td>\n",
              "      <td>4</td>\n",
              "      <td>14</td>\n",
              "      <td>7</td>\n",
              "      <td>4</td>\n",
              "      <td>97</td>\n",
              "      <td>False</td>\n",
              "      <td>False</td>\n",
              "      <td>False</td>\n",
              "      <td>False</td>\n",
              "      <td>False</td>\n",
              "      <td>False</td>\n",
              "      <td>0</td>\n",
              "    </tr>\n",
              "  </tbody>\n",
              "</table>\n",
              "</div>"
            ],
            "text/plain": [
              "  application_date  case_count  segment  application_Year  application_Month  \\\n",
              "0       2017-04-01       299.0        1              2017                  4   \n",
              "1       2017-04-03        42.0        1              2017                  4   \n",
              "2       2017-04-04        23.0        1              2017                  4   \n",
              "3       2017-04-05      1530.0        1              2017                  4   \n",
              "4       2017-04-07      1341.0        1              2017                  4   \n",
              "\n",
              "   application_Week  application_Day  application_Dayofweek  \\\n",
              "0                13                1                      5   \n",
              "1                14                3                      0   \n",
              "2                14                4                      1   \n",
              "3                14                5                      2   \n",
              "4                14                7                      4   \n",
              "\n",
              "   application_Dayofyear  application_Is_month_end  \\\n",
              "0                     91                     False   \n",
              "1                     93                     False   \n",
              "2                     94                     False   \n",
              "3                     95                     False   \n",
              "4                     97                     False   \n",
              "\n",
              "   application_Is_month_start  application_Is_quarter_end  \\\n",
              "0                        True                       False   \n",
              "1                       False                       False   \n",
              "2                       False                       False   \n",
              "3                       False                       False   \n",
              "4                       False                       False   \n",
              "\n",
              "   application_Is_quarter_start  application_Is_year_end  \\\n",
              "0                          True                    False   \n",
              "1                         False                    False   \n",
              "2                         False                    False   \n",
              "3                         False                    False   \n",
              "4                         False                    False   \n",
              "\n",
              "   application_Is_year_start  is_Holiday  \n",
              "0                      False           0  \n",
              "1                      False           0  \n",
              "2                      False           0  \n",
              "3                      False           1  \n",
              "4                      False           0  "
            ]
          },
          "metadata": {
            "tags": []
          },
          "execution_count": 28
        }
      ]
    },
    {
      "cell_type": "code",
      "metadata": {
        "id": "YCgTUgNsqk8k",
        "colab_type": "code",
        "outputId": "12fcf998-dd2e-41a5-f209-e78415df2726",
        "colab": {
          "base_uri": "https://localhost:8080/",
          "height": 224
        }
      },
      "source": [
        "df2.head()"
      ],
      "execution_count": 29,
      "outputs": [
        {
          "output_type": "execute_result",
          "data": {
            "text/html": [
              "<div>\n",
              "<style scoped>\n",
              "    .dataframe tbody tr th:only-of-type {\n",
              "        vertical-align: middle;\n",
              "    }\n",
              "\n",
              "    .dataframe tbody tr th {\n",
              "        vertical-align: top;\n",
              "    }\n",
              "\n",
              "    .dataframe thead th {\n",
              "        text-align: right;\n",
              "    }\n",
              "</style>\n",
              "<table border=\"1\" class=\"dataframe\">\n",
              "  <thead>\n",
              "    <tr style=\"text-align: right;\">\n",
              "      <th></th>\n",
              "      <th>application_date</th>\n",
              "      <th>case_count</th>\n",
              "      <th>segment</th>\n",
              "      <th>application_Year</th>\n",
              "      <th>application_Month</th>\n",
              "      <th>application_Week</th>\n",
              "      <th>application_Day</th>\n",
              "      <th>application_Dayofweek</th>\n",
              "      <th>application_Dayofyear</th>\n",
              "      <th>application_Is_month_end</th>\n",
              "      <th>application_Is_month_start</th>\n",
              "      <th>application_Is_quarter_end</th>\n",
              "      <th>application_Is_quarter_start</th>\n",
              "      <th>application_Is_year_end</th>\n",
              "      <th>application_Is_year_start</th>\n",
              "      <th>is_Holiday</th>\n",
              "    </tr>\n",
              "  </thead>\n",
              "  <tbody>\n",
              "    <tr>\n",
              "      <th>0</th>\n",
              "      <td>2017-04-01</td>\n",
              "      <td>897.0</td>\n",
              "      <td>2</td>\n",
              "      <td>2017</td>\n",
              "      <td>4</td>\n",
              "      <td>13</td>\n",
              "      <td>1</td>\n",
              "      <td>5</td>\n",
              "      <td>91</td>\n",
              "      <td>False</td>\n",
              "      <td>True</td>\n",
              "      <td>False</td>\n",
              "      <td>True</td>\n",
              "      <td>False</td>\n",
              "      <td>False</td>\n",
              "      <td>0</td>\n",
              "    </tr>\n",
              "    <tr>\n",
              "      <th>1</th>\n",
              "      <td>2017-04-02</td>\n",
              "      <td>605.0</td>\n",
              "      <td>2</td>\n",
              "      <td>2017</td>\n",
              "      <td>4</td>\n",
              "      <td>13</td>\n",
              "      <td>2</td>\n",
              "      <td>6</td>\n",
              "      <td>92</td>\n",
              "      <td>False</td>\n",
              "      <td>False</td>\n",
              "      <td>False</td>\n",
              "      <td>False</td>\n",
              "      <td>False</td>\n",
              "      <td>False</td>\n",
              "      <td>0</td>\n",
              "    </tr>\n",
              "    <tr>\n",
              "      <th>2</th>\n",
              "      <td>2017-04-03</td>\n",
              "      <td>2016.0</td>\n",
              "      <td>2</td>\n",
              "      <td>2017</td>\n",
              "      <td>4</td>\n",
              "      <td>14</td>\n",
              "      <td>3</td>\n",
              "      <td>0</td>\n",
              "      <td>93</td>\n",
              "      <td>False</td>\n",
              "      <td>False</td>\n",
              "      <td>False</td>\n",
              "      <td>False</td>\n",
              "      <td>False</td>\n",
              "      <td>False</td>\n",
              "      <td>0</td>\n",
              "    </tr>\n",
              "    <tr>\n",
              "      <th>3</th>\n",
              "      <td>2017-04-04</td>\n",
              "      <td>2245.0</td>\n",
              "      <td>2</td>\n",
              "      <td>2017</td>\n",
              "      <td>4</td>\n",
              "      <td>14</td>\n",
              "      <td>4</td>\n",
              "      <td>1</td>\n",
              "      <td>94</td>\n",
              "      <td>False</td>\n",
              "      <td>False</td>\n",
              "      <td>False</td>\n",
              "      <td>False</td>\n",
              "      <td>False</td>\n",
              "      <td>False</td>\n",
              "      <td>0</td>\n",
              "    </tr>\n",
              "    <tr>\n",
              "      <th>4</th>\n",
              "      <td>2017-04-05</td>\n",
              "      <td>2415.0</td>\n",
              "      <td>2</td>\n",
              "      <td>2017</td>\n",
              "      <td>4</td>\n",
              "      <td>14</td>\n",
              "      <td>5</td>\n",
              "      <td>2</td>\n",
              "      <td>95</td>\n",
              "      <td>False</td>\n",
              "      <td>False</td>\n",
              "      <td>False</td>\n",
              "      <td>False</td>\n",
              "      <td>False</td>\n",
              "      <td>False</td>\n",
              "      <td>1</td>\n",
              "    </tr>\n",
              "  </tbody>\n",
              "</table>\n",
              "</div>"
            ],
            "text/plain": [
              "  application_date  case_count  segment  application_Year  application_Month  \\\n",
              "0       2017-04-01       897.0        2              2017                  4   \n",
              "1       2017-04-02       605.0        2              2017                  4   \n",
              "2       2017-04-03      2016.0        2              2017                  4   \n",
              "3       2017-04-04      2245.0        2              2017                  4   \n",
              "4       2017-04-05      2415.0        2              2017                  4   \n",
              "\n",
              "   application_Week  application_Day  application_Dayofweek  \\\n",
              "0                13                1                      5   \n",
              "1                13                2                      6   \n",
              "2                14                3                      0   \n",
              "3                14                4                      1   \n",
              "4                14                5                      2   \n",
              "\n",
              "   application_Dayofyear  application_Is_month_end  \\\n",
              "0                     91                     False   \n",
              "1                     92                     False   \n",
              "2                     93                     False   \n",
              "3                     94                     False   \n",
              "4                     95                     False   \n",
              "\n",
              "   application_Is_month_start  application_Is_quarter_end  \\\n",
              "0                        True                       False   \n",
              "1                       False                       False   \n",
              "2                       False                       False   \n",
              "3                       False                       False   \n",
              "4                       False                       False   \n",
              "\n",
              "   application_Is_quarter_start  application_Is_year_end  \\\n",
              "0                          True                    False   \n",
              "1                         False                    False   \n",
              "2                         False                    False   \n",
              "3                         False                    False   \n",
              "4                         False                    False   \n",
              "\n",
              "   application_Is_year_start  is_Holiday  \n",
              "0                      False           0  \n",
              "1                      False           0  \n",
              "2                      False           0  \n",
              "3                      False           0  \n",
              "4                      False           1  "
            ]
          },
          "metadata": {
            "tags": []
          },
          "execution_count": 29
        }
      ]
    },
    {
      "cell_type": "code",
      "metadata": {
        "id": "LCQRw3kQqk3d",
        "colab_type": "code",
        "colab": {}
      },
      "source": [
        "#df1['segment'] = df1['segment'].astype('category')\n",
        "#df2['segment'] = df2['segment'].astype('category')"
      ],
      "execution_count": 0,
      "outputs": []
    },
    {
      "cell_type": "code",
      "metadata": {
        "id": "_7mj1XlVqkxH",
        "colab_type": "code",
        "outputId": "88fa5fe8-1797-49c0-b38a-be3166649c3b",
        "colab": {
          "base_uri": "https://localhost:8080/",
          "height": 34
        }
      },
      "source": [
        "df1_train=df1[df1['case_count'].isnull()==False].copy()\n",
        "df1_test=df1[df1['case_count'].isnull()==True].copy()\n",
        "df2_train=df2[df2['case_count'].isnull()==False].copy()\n",
        "df2_test=df2[df2['case_count'].isnull()==True].copy()\n",
        "\n",
        "print(df1_train.shape,df1_test.shape,df2_train.shape,df2_test.shape)\n"
      ],
      "execution_count": 31,
      "outputs": [
        {
          "output_type": "stream",
          "text": [
            "(806, 16) (87, 16) (844, 16) (93, 16)\n"
          ],
          "name": "stdout"
        }
      ]
    },
    {
      "cell_type": "code",
      "metadata": {
        "id": "Sv0hGM20q3Y0",
        "colab_type": "code",
        "colab": {}
      },
      "source": [
        "df1_train = df1_train[df1_train['case_count'] > 15].reset_index(drop=True)\n",
        "df1_train = df1_train[df1_train['case_count'] <= 8000].reset_index(drop=True)\n",
        "df2_train = df2_train[df2_train['case_count'] > 15].reset_index(drop=True)\n",
        "df2_train = df2_train[df2_train['case_count'] < 40000].reset_index(drop=True)"
      ],
      "execution_count": 0,
      "outputs": []
    },
    {
      "cell_type": "code",
      "metadata": {
        "id": "g4sHcMTlqkrU",
        "colab_type": "code",
        "colab": {}
      },
      "source": [
        "from xgboost import XGBRFRegressor\n",
        "from sklearn.model_selection import StratifiedKFold,train_test_split\n",
        "from lightgbm import LGBMRegressor\n",
        "from sklearn.metrics import mean_absolute_error"
      ],
      "execution_count": 0,
      "outputs": []
    },
    {
      "cell_type": "code",
      "metadata": {
        "id": "UTHinJ1Eqkla",
        "colab_type": "code",
        "outputId": "3618668b-f264-4a89-931d-ac8e0897efa4",
        "colab": {
          "base_uri": "https://localhost:8080/",
          "height": 34
        }
      },
      "source": [
        "X1,Y1=df1_train.drop(['application_date','case_count'],axis=1),df1_train['case_count']\n",
        "X1test=df1_test.drop(['application_date','case_count'],axis=1)\n",
        "\n",
        "X2,Y2=df2_train.drop(['application_date','case_count'],axis=1),df2_train['case_count']\n",
        "X2test=df2_test.drop(['application_date','case_count'],axis=1)\n",
        "print(X1.shape,X1test.shape,X2.shape,X2test.shape)\n",
        "X1_train,X1_val,Y1_train,Y1_val = train_test_split(X1,Y1,test_size=0.25,random_state = 2020)\n",
        "X2_train,X2_val,Y2_train,Y2_val = train_test_split(X2,Y2,test_size=0.25,random_state = 2020)"
      ],
      "execution_count": 34,
      "outputs": [
        {
          "output_type": "stream",
          "text": [
            "(780, 14) (87, 14) (843, 14) (93, 14)\n"
          ],
          "name": "stdout"
        }
      ]
    },
    {
      "cell_type": "code",
      "metadata": {
        "id": "pmKpWskh02t9",
        "colab_type": "code",
        "colab": {
          "base_uri": "https://localhost:8080/",
          "height": 34
        },
        "outputId": "15c16073-d9fd-4f4b-fc75-3e25e4817ec0"
      },
      "source": [
        "LG = LGBMRegressor(n_estimators=3000)\n",
        "LG.fit(X1_train, Y1_train)\n",
        "y_pred = LG.predict(X1_val)\n",
        "print('MAPE:', mean_absolute_percentage_error(Y1_val, y_pred))"
      ],
      "execution_count": 35,
      "outputs": [
        {
          "output_type": "stream",
          "text": [
            "MAPE: 69.87273057754845\n"
          ],
          "name": "stdout"
        }
      ]
    },
    {
      "cell_type": "code",
      "metadata": {
        "id": "Gtlv2PZOqkdY",
        "colab_type": "code",
        "outputId": "c57d9263-b4be-4fd0-8da2-b0cf9717c675",
        "colab": {
          "base_uri": "https://localhost:8080/",
          "height": 986
        }
      },
      "source": [
        "LGBMerror1=[]\n",
        "y_pred_LGBM1=[]\n",
        "fold=StratifiedKFold(n_splits=3,shuffle=True,random_state=402)\n",
        "i=1\n",
        "for train_index, test_index in fold.split(X1,Y1):\n",
        "    X1_train, X1_test = X1.iloc[train_index], X1.iloc[test_index]\n",
        "    Y1_train, Y1_test = Y1[train_index], Y1[test_index]\n",
        "    model=LGBMRegressor(boosting_type='gbdt',n_estimators=3000,learning_rate = 0.01, objective='regression', colsample_bytree=0.3)\n",
        "    model.fit(X1_train,Y1_train,eval_set=[(X1_test, Y1_test)], early_stopping_rounds=5000, verbose=200)\n",
        "    preds=model.predict(X1_test)[:]\n",
        "    print(\"LGBMerror: \",mean_absolute_percentage_error(Y1_test,preds))\n",
        "    LGBMerror1.append(mean_absolute_percentage_error(Y1_test,preds))\n",
        "    p = model.predict(X1test)[:]\n",
        "    i=i+1\n",
        "    y_pred_LGBM1.append(p)"
      ],
      "execution_count": 36,
      "outputs": [
        {
          "output_type": "stream",
          "text": [
            "Training until validation scores don't improve for 5000 rounds.\n",
            "[200]\tvalid_0's l2: 1.01448e+06\n",
            "[400]\tvalid_0's l2: 808788\n",
            "[600]\tvalid_0's l2: 729457\n",
            "[800]\tvalid_0's l2: 700981\n",
            "[1000]\tvalid_0's l2: 692184\n",
            "[1200]\tvalid_0's l2: 690341\n",
            "[1400]\tvalid_0's l2: 687337\n",
            "[1600]\tvalid_0's l2: 685411\n",
            "[1800]\tvalid_0's l2: 690230\n",
            "[2000]\tvalid_0's l2: 694005\n",
            "[2200]\tvalid_0's l2: 696500\n",
            "[2400]\tvalid_0's l2: 700297\n",
            "[2600]\tvalid_0's l2: 704156\n",
            "[2800]\tvalid_0's l2: 706429\n",
            "[3000]\tvalid_0's l2: 709871\n",
            "Did not meet early stopping. Best iteration is:\n",
            "[1577]\tvalid_0's l2: 685197\n",
            "LGBMerror:  96.0309188367591\n",
            "Training until validation scores don't improve for 5000 rounds.\n",
            "[200]\tvalid_0's l2: 1.11625e+06\n",
            "[400]\tvalid_0's l2: 914228\n",
            "[600]\tvalid_0's l2: 833447\n",
            "[800]\tvalid_0's l2: 801225\n",
            "[1000]\tvalid_0's l2: 785588\n",
            "[1200]\tvalid_0's l2: 772458\n",
            "[1400]\tvalid_0's l2: 768863\n",
            "[1600]\tvalid_0's l2: 769105\n",
            "[1800]\tvalid_0's l2: 768023\n",
            "[2000]\tvalid_0's l2: 766277\n",
            "[2200]\tvalid_0's l2: 765345\n",
            "[2400]\tvalid_0's l2: 765187\n",
            "[2600]\tvalid_0's l2: 766805\n",
            "[2800]\tvalid_0's l2: 766023\n",
            "[3000]\tvalid_0's l2: 766158\n",
            "Did not meet early stopping. Best iteration is:\n",
            "[2428]\tvalid_0's l2: 764735\n",
            "LGBMerror:  144.8245163438932\n",
            "Training until validation scores don't improve for 5000 rounds.\n",
            "[200]\tvalid_0's l2: 1.00664e+06\n",
            "[400]\tvalid_0's l2: 782016\n",
            "[600]\tvalid_0's l2: 691863\n",
            "[800]\tvalid_0's l2: 653079\n",
            "[1000]\tvalid_0's l2: 635812\n",
            "[1200]\tvalid_0's l2: 620609\n",
            "[1400]\tvalid_0's l2: 614975\n",
            "[1600]\tvalid_0's l2: 610961\n",
            "[1800]\tvalid_0's l2: 606575\n",
            "[2000]\tvalid_0's l2: 603935\n",
            "[2200]\tvalid_0's l2: 601528\n",
            "[2400]\tvalid_0's l2: 600707\n",
            "[2600]\tvalid_0's l2: 600201\n",
            "[2800]\tvalid_0's l2: 598688\n",
            "[3000]\tvalid_0's l2: 599117\n",
            "Did not meet early stopping. Best iteration is:\n",
            "[2921]\tvalid_0's l2: 598415\n",
            "LGBMerror:  138.94590963115817\n"
          ],
          "name": "stdout"
        }
      ]
    },
    {
      "cell_type": "code",
      "metadata": {
        "id": "k5lywFXF04tK",
        "colab_type": "code",
        "colab": {
          "base_uri": "https://localhost:8080/",
          "height": 34
        },
        "outputId": "bf1948f0-c857-4298-da23-e8ef3f3f568a"
      },
      "source": [
        "LG = LGBMRegressor(n_estimators=3000)\n",
        "LG.fit(X2_train, Y2_train)\n",
        "y_pred = LG.predict(X2_val)\n",
        "print('MAPE:', mean_absolute_percentage_error(Y2_val, y_pred))"
      ],
      "execution_count": 37,
      "outputs": [
        {
          "output_type": "stream",
          "text": [
            "MAPE: 24.611561158200754\n"
          ],
          "name": "stdout"
        }
      ]
    },
    {
      "cell_type": "code",
      "metadata": {
        "id": "uHmmksZNqkW4",
        "colab_type": "code",
        "outputId": "d3d1e183-52c5-4ba7-8719-1790836be158",
        "colab": {
          "base_uri": "https://localhost:8080/",
          "height": 663
        }
      },
      "source": [
        "LGBMerror2=[]\n",
        "y_pred_LGBM2=[]\n",
        "fold=StratifiedKFold(n_splits=2,shuffle=True,random_state=402)\n",
        "i=1\n",
        "for train_index, test_index in fold.split(X2,Y2):\n",
        "    X2_train, X2_test = X2.iloc[train_index], X2.iloc[test_index]\n",
        "    Y2_train, Y2_test = Y2[train_index], Y2[test_index]\n",
        "    model=LGBMRegressor(boosting_type='gbdt',n_estimators=3000,learning_rate = 0.01, objective='regression', colsample_bytree=0.3)\n",
        "    model.fit(X2_train,Y2_train,eval_set=[(X2_test, Y2_test)], early_stopping_rounds=5000, verbose=200)\n",
        "    preds=model.predict(X2_test)[:]\n",
        "    print(\"LGBMerror: \",mean_absolute_percentage_error(Y2_test,preds))\n",
        "    LGBMerror2.append(mean_absolute_percentage_error(Y2_test,preds))\n",
        "    p = model.predict(X2test)[:]\n",
        "    i=i+1\n",
        "    y_pred_LGBM2.append(p)"
      ],
      "execution_count": 38,
      "outputs": [
        {
          "output_type": "stream",
          "text": [
            "Training until validation scores don't improve for 5000 rounds.\n",
            "[200]\tvalid_0's l2: 5.00634e+07\n",
            "[400]\tvalid_0's l2: 3.37295e+07\n",
            "[600]\tvalid_0's l2: 2.68169e+07\n",
            "[800]\tvalid_0's l2: 2.38974e+07\n",
            "[1000]\tvalid_0's l2: 2.2235e+07\n",
            "[1200]\tvalid_0's l2: 2.09631e+07\n",
            "[1400]\tvalid_0's l2: 2.01409e+07\n",
            "[1600]\tvalid_0's l2: 1.96596e+07\n",
            "[1800]\tvalid_0's l2: 1.92508e+07\n",
            "[2000]\tvalid_0's l2: 1.89545e+07\n",
            "[2200]\tvalid_0's l2: 1.87244e+07\n",
            "[2400]\tvalid_0's l2: 1.85366e+07\n",
            "[2600]\tvalid_0's l2: 1.8355e+07\n",
            "[2800]\tvalid_0's l2: 1.81935e+07\n",
            "[3000]\tvalid_0's l2: 1.80524e+07\n",
            "Did not meet early stopping. Best iteration is:\n",
            "[3000]\tvalid_0's l2: 1.80524e+07\n",
            "LGBMerror:  65.46050241853627\n",
            "Training until validation scores don't improve for 5000 rounds.\n",
            "[200]\tvalid_0's l2: 5.2696e+07\n",
            "[400]\tvalid_0's l2: 3.57108e+07\n",
            "[600]\tvalid_0's l2: 2.77916e+07\n",
            "[800]\tvalid_0's l2: 2.42062e+07\n",
            "[1000]\tvalid_0's l2: 2.22293e+07\n",
            "[1200]\tvalid_0's l2: 2.08393e+07\n",
            "[1400]\tvalid_0's l2: 1.99218e+07\n",
            "[1600]\tvalid_0's l2: 1.93892e+07\n",
            "[1800]\tvalid_0's l2: 1.90317e+07\n",
            "[2000]\tvalid_0's l2: 1.87662e+07\n",
            "[2200]\tvalid_0's l2: 1.85588e+07\n",
            "[2400]\tvalid_0's l2: 1.8378e+07\n",
            "[2600]\tvalid_0's l2: 1.82139e+07\n",
            "[2800]\tvalid_0's l2: 1.80838e+07\n",
            "[3000]\tvalid_0's l2: 1.79584e+07\n",
            "Did not meet early stopping. Best iteration is:\n",
            "[3000]\tvalid_0's l2: 1.79584e+07\n",
            "LGBMerror:  53.93551627281447\n"
          ],
          "name": "stdout"
        }
      ]
    },
    {
      "cell_type": "code",
      "metadata": {
        "id": "OnqUpuoEqkI9",
        "colab_type": "code",
        "colab": {}
      },
      "source": [
        "submission1 = submission[submission['segment'] == 1]\n",
        "submission2 = submission[submission['segment'] == 2]"
      ],
      "execution_count": 0,
      "outputs": []
    },
    {
      "cell_type": "code",
      "metadata": {
        "id": "D9xL3CMpqkCN",
        "colab_type": "code",
        "colab": {}
      },
      "source": [
        "submission1['case_count'] = np.abs(np.mean(y_pred_LGBM1,0))\n",
        "submission2['case_count'] = np.abs(np.mean(y_pred_LGBM2,0))"
      ],
      "execution_count": 0,
      "outputs": []
    },
    {
      "cell_type": "code",
      "metadata": {
        "id": "ckdcWRgIqj8Y",
        "colab_type": "code",
        "outputId": "a78a5e96-869a-4101-a132-34c2f1746a3a",
        "colab": {
          "base_uri": "https://localhost:8080/",
          "height": 514
        }
      },
      "source": [
        "final_submission = pd.concat([submission1,submission2])\n",
        "final_submission.head(15)"
      ],
      "execution_count": 41,
      "outputs": [
        {
          "output_type": "execute_result",
          "data": {
            "text/html": [
              "<div>\n",
              "<style scoped>\n",
              "    .dataframe tbody tr th:only-of-type {\n",
              "        vertical-align: middle;\n",
              "    }\n",
              "\n",
              "    .dataframe tbody tr th {\n",
              "        vertical-align: top;\n",
              "    }\n",
              "\n",
              "    .dataframe thead th {\n",
              "        text-align: right;\n",
              "    }\n",
              "</style>\n",
              "<table border=\"1\" class=\"dataframe\">\n",
              "  <thead>\n",
              "    <tr style=\"text-align: right;\">\n",
              "      <th></th>\n",
              "      <th>id</th>\n",
              "      <th>application_date</th>\n",
              "      <th>segment</th>\n",
              "      <th>case_count</th>\n",
              "    </tr>\n",
              "  </thead>\n",
              "  <tbody>\n",
              "    <tr>\n",
              "      <th>0</th>\n",
              "      <td>1</td>\n",
              "      <td>2019-07-06</td>\n",
              "      <td>1</td>\n",
              "      <td>2845.574291</td>\n",
              "    </tr>\n",
              "    <tr>\n",
              "      <th>1</th>\n",
              "      <td>2</td>\n",
              "      <td>2019-07-07</td>\n",
              "      <td>1</td>\n",
              "      <td>1701.228087</td>\n",
              "    </tr>\n",
              "    <tr>\n",
              "      <th>2</th>\n",
              "      <td>3</td>\n",
              "      <td>2019-07-08</td>\n",
              "      <td>1</td>\n",
              "      <td>3753.261056</td>\n",
              "    </tr>\n",
              "    <tr>\n",
              "      <th>3</th>\n",
              "      <td>4</td>\n",
              "      <td>2019-07-09</td>\n",
              "      <td>1</td>\n",
              "      <td>3249.201928</td>\n",
              "    </tr>\n",
              "    <tr>\n",
              "      <th>4</th>\n",
              "      <td>5</td>\n",
              "      <td>2019-07-10</td>\n",
              "      <td>1</td>\n",
              "      <td>3375.167693</td>\n",
              "    </tr>\n",
              "    <tr>\n",
              "      <th>5</th>\n",
              "      <td>6</td>\n",
              "      <td>2019-07-11</td>\n",
              "      <td>1</td>\n",
              "      <td>3306.694828</td>\n",
              "    </tr>\n",
              "    <tr>\n",
              "      <th>6</th>\n",
              "      <td>7</td>\n",
              "      <td>2019-07-12</td>\n",
              "      <td>1</td>\n",
              "      <td>3508.336863</td>\n",
              "    </tr>\n",
              "    <tr>\n",
              "      <th>7</th>\n",
              "      <td>8</td>\n",
              "      <td>2019-07-13</td>\n",
              "      <td>1</td>\n",
              "      <td>2966.270847</td>\n",
              "    </tr>\n",
              "    <tr>\n",
              "      <th>8</th>\n",
              "      <td>9</td>\n",
              "      <td>2019-07-14</td>\n",
              "      <td>1</td>\n",
              "      <td>1783.247127</td>\n",
              "    </tr>\n",
              "    <tr>\n",
              "      <th>9</th>\n",
              "      <td>10</td>\n",
              "      <td>2019-07-15</td>\n",
              "      <td>1</td>\n",
              "      <td>3703.165918</td>\n",
              "    </tr>\n",
              "    <tr>\n",
              "      <th>10</th>\n",
              "      <td>11</td>\n",
              "      <td>2019-07-16</td>\n",
              "      <td>1</td>\n",
              "      <td>3377.059928</td>\n",
              "    </tr>\n",
              "    <tr>\n",
              "      <th>11</th>\n",
              "      <td>12</td>\n",
              "      <td>2019-07-17</td>\n",
              "      <td>1</td>\n",
              "      <td>3414.164866</td>\n",
              "    </tr>\n",
              "    <tr>\n",
              "      <th>12</th>\n",
              "      <td>13</td>\n",
              "      <td>2019-07-18</td>\n",
              "      <td>1</td>\n",
              "      <td>3206.654550</td>\n",
              "    </tr>\n",
              "    <tr>\n",
              "      <th>13</th>\n",
              "      <td>14</td>\n",
              "      <td>2019-07-19</td>\n",
              "      <td>1</td>\n",
              "      <td>3160.696206</td>\n",
              "    </tr>\n",
              "    <tr>\n",
              "      <th>14</th>\n",
              "      <td>15</td>\n",
              "      <td>2019-07-20</td>\n",
              "      <td>1</td>\n",
              "      <td>2596.027395</td>\n",
              "    </tr>\n",
              "  </tbody>\n",
              "</table>\n",
              "</div>"
            ],
            "text/plain": [
              "    id application_date  segment   case_count\n",
              "0    1       2019-07-06        1  2845.574291\n",
              "1    2       2019-07-07        1  1701.228087\n",
              "2    3       2019-07-08        1  3753.261056\n",
              "3    4       2019-07-09        1  3249.201928\n",
              "4    5       2019-07-10        1  3375.167693\n",
              "5    6       2019-07-11        1  3306.694828\n",
              "6    7       2019-07-12        1  3508.336863\n",
              "7    8       2019-07-13        1  2966.270847\n",
              "8    9       2019-07-14        1  1783.247127\n",
              "9   10       2019-07-15        1  3703.165918\n",
              "10  11       2019-07-16        1  3377.059928\n",
              "11  12       2019-07-17        1  3414.164866\n",
              "12  13       2019-07-18        1  3206.654550\n",
              "13  14       2019-07-19        1  3160.696206\n",
              "14  15       2019-07-20        1  2596.027395"
            ]
          },
          "metadata": {
            "tags": []
          },
          "execution_count": 41
        }
      ]
    },
    {
      "cell_type": "code",
      "metadata": {
        "id": "ndmWWOqcqj3V",
        "colab_type": "code",
        "outputId": "65455b5a-4526-4297-94a7-576af42f80dd",
        "colab": {
          "base_uri": "https://localhost:8080/",
          "height": 34
        }
      },
      "source": [
        "final_submission.to_csv(\"/content/drive/My Drive/LTFS/final_submission_LGBM.csv\", index= False)\n",
        "final_submission.shape"
      ],
      "execution_count": 42,
      "outputs": [
        {
          "output_type": "execute_result",
          "data": {
            "text/plain": [
              "(180, 4)"
            ]
          },
          "metadata": {
            "tags": []
          },
          "execution_count": 42
        }
      ]
    },
    {
      "cell_type": "code",
      "metadata": {
        "id": "tuSnYSSNqjyL",
        "colab_type": "code",
        "colab": {}
      },
      "source": [
        ""
      ],
      "execution_count": 0,
      "outputs": []
    },
    {
      "cell_type": "code",
      "metadata": {
        "id": "30aMxfK1qjtG",
        "colab_type": "code",
        "colab": {}
      },
      "source": [
        ""
      ],
      "execution_count": 0,
      "outputs": []
    },
    {
      "cell_type": "code",
      "metadata": {
        "id": "LJzem_iaqjni",
        "colab_type": "code",
        "colab": {}
      },
      "source": [
        ""
      ],
      "execution_count": 0,
      "outputs": []
    },
    {
      "cell_type": "code",
      "metadata": {
        "id": "K8OCuvh7qjiT",
        "colab_type": "code",
        "colab": {}
      },
      "source": [
        ""
      ],
      "execution_count": 0,
      "outputs": []
    },
    {
      "cell_type": "code",
      "metadata": {
        "id": "WrJCTNh8qjcN",
        "colab_type": "code",
        "colab": {}
      },
      "source": [
        ""
      ],
      "execution_count": 0,
      "outputs": []
    },
    {
      "cell_type": "code",
      "metadata": {
        "id": "MrPOlKApqjBd",
        "colab_type": "code",
        "colab": {}
      },
      "source": [
        ""
      ],
      "execution_count": 0,
      "outputs": []
    },
    {
      "cell_type": "code",
      "metadata": {
        "id": "2DnZldI8qi80",
        "colab_type": "code",
        "colab": {}
      },
      "source": [
        ""
      ],
      "execution_count": 0,
      "outputs": []
    },
    {
      "cell_type": "code",
      "metadata": {
        "id": "wT6PUR5Zqi4G",
        "colab_type": "code",
        "colab": {}
      },
      "source": [
        ""
      ],
      "execution_count": 0,
      "outputs": []
    },
    {
      "cell_type": "code",
      "metadata": {
        "id": "_N-6hB9GqizJ",
        "colab_type": "code",
        "colab": {}
      },
      "source": [
        ""
      ],
      "execution_count": 0,
      "outputs": []
    },
    {
      "cell_type": "code",
      "metadata": {
        "id": "DhC4R9ywqivL",
        "colab_type": "code",
        "colab": {}
      },
      "source": [
        ""
      ],
      "execution_count": 0,
      "outputs": []
    },
    {
      "cell_type": "code",
      "metadata": {
        "id": "3HnNRDvVqip3",
        "colab_type": "code",
        "colab": {}
      },
      "source": [
        ""
      ],
      "execution_count": 0,
      "outputs": []
    },
    {
      "cell_type": "code",
      "metadata": {
        "id": "vaN0l8S3qikm",
        "colab_type": "code",
        "colab": {}
      },
      "source": [
        ""
      ],
      "execution_count": 0,
      "outputs": []
    },
    {
      "cell_type": "code",
      "metadata": {
        "id": "xlJ9RJWXqif5",
        "colab_type": "code",
        "colab": {}
      },
      "source": [
        ""
      ],
      "execution_count": 0,
      "outputs": []
    },
    {
      "cell_type": "code",
      "metadata": {
        "id": "zTTOzUvpqian",
        "colab_type": "code",
        "colab": {}
      },
      "source": [
        ""
      ],
      "execution_count": 0,
      "outputs": []
    },
    {
      "cell_type": "code",
      "metadata": {
        "id": "Ht2WXQiqqiVj",
        "colab_type": "code",
        "colab": {}
      },
      "source": [
        ""
      ],
      "execution_count": 0,
      "outputs": []
    }
  ]
}
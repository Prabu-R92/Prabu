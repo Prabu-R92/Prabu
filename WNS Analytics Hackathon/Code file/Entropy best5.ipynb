{
 "cells": [
  {
   "cell_type": "code",
   "execution_count": 88,
   "metadata": {},
   "outputs": [],
   "source": [
    "import pandas as pd\n",
    "import numpy as np"
   ]
  },
  {
   "cell_type": "code",
   "execution_count": 89,
   "metadata": {},
   "outputs": [],
   "source": [
    "#Reading the train file\n",
    "train_df= pd.read_csv(\"train.csv\", parse_dates=['impression_time'] , index_col='impression_id')\n",
    "# Parsing the dates and indexing the impression ids"
   ]
  },
  {
   "cell_type": "code",
   "execution_count": 90,
   "metadata": {},
   "outputs": [],
   "source": [
    "final_train= train_df.drop(['app_code'], axis=1)"
   ]
  },
  {
   "cell_type": "code",
   "execution_count": 22,
   "metadata": {},
   "outputs": [],
   "source": [
    "#final_train = final_train[(final_train['impression_time']>=pd.Timestamp(2018,11,15)) & \n",
    "                #            (final_train['impression_time']<pd.Timestamp(2018,12,12))]"
   ]
  },
  {
   "cell_type": "code",
   "execution_count": 91,
   "metadata": {},
   "outputs": [],
   "source": [
    "#Encoding string columns\n",
    "from sklearn.preprocessing import LabelEncoder"
   ]
  },
  {
   "cell_type": "code",
   "execution_count": 92,
   "metadata": {},
   "outputs": [],
   "source": [
    "os_le = LabelEncoder()\n",
    "final_train.loc[:,'os_label'] = os_le.fit_transform(final_train['os_version'])"
   ]
  },
  {
   "cell_type": "code",
   "execution_count": 93,
   "metadata": {},
   "outputs": [],
   "source": [
    "final_input= final_train.drop(['impression_time','os_version'],axis='columns')\n",
    "final_input.reset_index(inplace=True) # Removing impression id index as it might cause confusion\n",
    "final_input.drop('impression_id', axis=1, inplace=True)\n",
    "train_data = final_input.drop(['is_click'], axis=1)\n",
    "target = final_input['is_click']"
   ]
  },
  {
   "cell_type": "code",
   "execution_count": 94,
   "metadata": {},
   "outputs": [],
   "source": [
    "#Setting up a tree and training it\n",
    "from sklearn import tree"
   ]
  },
  {
   "cell_type": "code",
   "execution_count": 95,
   "metadata": {},
   "outputs": [
    {
     "data": {
      "text/plain": [
       "DecisionTreeClassifier(class_weight=None, criterion='entropy', max_depth=None,\n",
       "            max_features='sqrt', max_leaf_nodes=None,\n",
       "            min_impurity_decrease=0.0, min_impurity_split=None,\n",
       "            min_samples_leaf=1, min_samples_split=2,\n",
       "            min_weight_fraction_leaf=0.0, presort=False, random_state=None,\n",
       "            splitter='best')"
      ]
     },
     "execution_count": 95,
     "metadata": {},
     "output_type": "execute_result"
    }
   ],
   "source": [
    "model= tree.DecisionTreeClassifier(criterion='entropy', splitter='best', max_features='sqrt')\n",
    "model.fit(train_data,target)"
   ]
  },
  {
   "cell_type": "code",
   "execution_count": 96,
   "metadata": {},
   "outputs": [],
   "source": [
    "#Creating test dataframe\n",
    "#Reading the train file\n",
    "test_data= pd.read_csv(\"test.csv\", parse_dates=['impression_time'])"
   ]
  },
  {
   "cell_type": "code",
   "execution_count": 97,
   "metadata": {},
   "outputs": [],
   "source": [
    "test_data.drop(['impression_id', 'impression_time', 'app_code'], axis=1, inplace=True)"
   ]
  },
  {
   "cell_type": "code",
   "execution_count": 98,
   "metadata": {},
   "outputs": [],
   "source": [
    "osle = LabelEncoder()\n",
    "test_data.loc[:,'os_label'] = osle.fit_transform(test_data['os_version'])"
   ]
  },
  {
   "cell_type": "code",
   "execution_count": 99,
   "metadata": {},
   "outputs": [],
   "source": [
    "test_data.drop('os_version', axis=1, inplace=True)"
   ]
  },
  {
   "cell_type": "code",
   "execution_count": 100,
   "metadata": {},
   "outputs": [],
   "source": [
    "answer = model.predict(test_data)"
   ]
  },
  {
   "cell_type": "code",
   "execution_count": 101,
   "metadata": {},
   "outputs": [],
   "source": [
    "#Creating submission file using dataframe\n",
    "submit_data= pd.read_csv(\"test.csv\")\n",
    "submit_data.drop(['impression_time','user_id','app_code','os_version','is_4G'], axis=1, inplace=True)\n",
    "submit_data.to_csv('submission.csv', index=False)"
   ]
  },
  {
   "cell_type": "code",
   "execution_count": 102,
   "metadata": {},
   "outputs": [
    {
     "data": {
      "text/plain": [
       "(90675,)"
      ]
     },
     "execution_count": 102,
     "metadata": {},
     "output_type": "execute_result"
    }
   ],
   "source": [
    "#Converting into np array\n",
    "predict_array = np.array(answer)\n",
    "np.shape(predict_array)"
   ]
  },
  {
   "cell_type": "code",
   "execution_count": 103,
   "metadata": {},
   "outputs": [],
   "source": [
    "#Writing the predicted array to another file in a column\n",
    "import csv\n",
    "with open('prediction.csv', 'a', newline='') as csvfile:\n",
    "    writer = csv.writer(csvfile, delimiter=',')\n",
    "    for row in range(0,predict_array.shape[0]):\n",
    "        myList = []\n",
    "        myList.append(predict_array[row])\n",
    "        writer.writerow(myList)"
   ]
  },
  {
   "cell_type": "code",
   "execution_count": 104,
   "metadata": {},
   "outputs": [],
   "source": [
    "# Now bringing them together\n",
    "a = pd.read_csv(\"submission.csv\")\n",
    "b = pd.read_csv(\"prediction.csv\", header=None, names=[\"is_click\"])\n",
    "final_submission = pd.concat([a,b],axis=1)\n",
    "final_submission.to_csv('final_submission.csv', index=False)\n",
    "\n",
    "#The End"
   ]
  },
  {
   "cell_type": "code",
   "execution_count": null,
   "metadata": {},
   "outputs": [],
   "source": []
  }
 ],
 "metadata": {
  "kernelspec": {
   "display_name": "Python 3",
   "language": "python",
   "name": "python3"
  },
  "language_info": {
   "codemirror_mode": {
    "name": "ipython",
    "version": 3
   },
   "file_extension": ".py",
   "mimetype": "text/x-python",
   "name": "python",
   "nbconvert_exporter": "python",
   "pygments_lexer": "ipython3",
   "version": "3.7.3"
  }
 },
 "nbformat": 4,
 "nbformat_minor": 2
}
